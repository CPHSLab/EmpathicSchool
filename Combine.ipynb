{
 "cells": [
  {
   "cell_type": "code",
   "execution_count": 60,
   "id": "b0e2cb53-65a1-47c2-b699-c4e69e612777",
   "metadata": {},
   "outputs": [],
   "source": [
    "#import libraries\n",
    "from pathlib import Path\n",
    "import os, string\n",
    "\n",
    "\n",
    "import numpy as np\n",
    "import pandas as pd\n",
    "\n",
    "import matplotlib.pyplot as plt\n",
    "\n",
    "from tqdm import tqdm"
   ]
  },
  {
   "cell_type": "code",
   "execution_count": 62,
   "id": "f137e682-54cc-44b2-8541-3464b03ae21a",
   "metadata": {},
   "outputs": [],
   "source": [
    "emotion_path = '/nfsmount/majid/Emotion detection/Cropped/'\n",
    "bio_path = '/nfsmount/majid/Emotion detection/Cropped/bioSignals_sep/'"
   ]
  },
  {
   "cell_type": "code",
   "execution_count": 63,
   "id": "8b79a17e-c496-4cf7-a90d-fe6b26d00143",
   "metadata": {},
   "outputs": [],
   "source": [
    "def ext_emotion_df(subject,task):\n",
    "    \n",
    "    #generate the path \n",
    "    emotion_dir = f'{emotion_path}{subject}'\n",
    "    \n",
    "    #generate the file name\n",
    "    emotion_filename = f'{emotion_dir}/{subject}V{task}XCEPTION.xlsx'\n",
    "    \n",
    "    #generate the dataframe\n",
    "    emotion_df = pd.read_excel(emotion_filename)\n",
    "\n",
    "    return emotion_df"
   ]
  },
  {
   "cell_type": "code",
   "execution_count": 64,
   "id": "15ccb558-2705-46ba-b788-92c5d7492394",
   "metadata": {},
   "outputs": [],
   "source": [
    "def ext_hr_df(subject,task):\n",
    "    hr_dir = f'{bio_path}{subject}'\n",
    "    \n",
    "    #generate the file name\n",
    "    hr_filename = f'{hr_dir}/T{task}HR.csv'\n",
    "    \n",
    "    #generate the dataframe\n",
    "    hr_df = pd.read_csv(hr_filename)\n",
    "\n",
    "    hr_df.columns = ['hr','epoch']\n",
    "    \n",
    "    return hr_df\n",
    "\n",
    "def ext_eda_df(subject,task):\n",
    "    eda_dir = f'{bio_path}{subject}'\n",
    "    \n",
    "    #generate the file name\n",
    "    eda_filename = f'{eda_dir}/T{task}EDA.csv'\n",
    "    \n",
    "    #generate the dataframe\n",
    "    eda_df = pd.read_csv(eda_filename)\n",
    "\n",
    "    eda_df.columns = ['eda','epoch']\n",
    "    \n",
    "    return eda_df\n",
    "\n",
    "def ext_temp_df(subject,task):\n",
    "    temp_dir = f'{bio_path}{subject}'\n",
    "    \n",
    "    #generate the file name\n",
    "    temp_filename = f'{temp_dir}/T{task}TEMP.csv'\n",
    "    \n",
    "    #generate the dataframe\n",
    "    temp_df = pd.read_csv(temp_filename)\n",
    "\n",
    "    temp_df.columns = ['temp','epoch']\n",
    "    \n",
    "    return temp_df"
   ]
  },
  {
   "cell_type": "code",
   "execution_count": 82,
   "id": "11270a30-db5f-4da2-ad2f-3a454c7f6673",
   "metadata": {},
   "outputs": [],
   "source": [
    "def srcl(emotion_df, hr_df, eda_df, temp_df, labels,task):\n",
    "\n",
    "    #find the data frame sizes\n",
    "    a, b = emotion_df.shape \n",
    "    c, d = temp_df.shape\n",
    "\n",
    "    lst =['Angry', 'Disgust', 'Scared', 'Happy', 'Sad', 'Surprised', 'Neutral']\n",
    "    aggdict = {}\n",
    "\n",
    "    for l in lst:\n",
    "        aggdict[l] = 'mean'\n",
    "\n",
    "\n",
    "    emdf = emotion_df.copy()\n",
    "    emdf['Time (seconds)'] = emdf['Time (seconds)'].round(3)\n",
    "    \n",
    "    #define a new dataframe\n",
    "    emdf['TimeInt'] = emdf['Time (seconds)'].apply(np.floor)\n",
    "    emdf['FrameSpec'] = (emdf['Time (seconds)'] - emdf['TimeInt']).apply(lambda x: 1 if x<0.24 else(2 if x<0.48 else(3 if x<0.72 else 4)))\n",
    "    emdf_gb = emdf.groupby(['TimeInt','FrameSpec']).agg(aggdict).reset_index()\n",
    "\n",
    "    \n",
    "    #find missing values and repeat them for each timestep of emotions\n",
    "    for i in range(540):\n",
    "        vals = emdf_gb[emdf_gb['TimeInt']==i]['FrameSpec'].unique()\n",
    "        if len(vals)<4:\n",
    "            actval = range(1,5)\n",
    "            missing =  np.setdiff1d(actval, vals)\n",
    "            for j in missing:\n",
    "                frame = i if j!=1 else i-1\n",
    "                spec = j-1 if j!=1 else 4\n",
    "                \n",
    "                insertDict = {}\n",
    "                insertDict['TimeInt'] = i\n",
    "                insertDict['FrameSpec'] = j\n",
    "                getdictvals = emdf_gb[((emdf_gb['TimeInt']==frame) & (emdf_gb['FrameSpec']==spec))][['Angry', 'Disgust', 'Scared', 'Happy', 'Sad', 'Surprised', 'Neutral']]\n",
    "                \n",
    "                if len(getdictvals.keys())>0:\n",
    "                    for key, value in getdictvals.to_dict().items():\n",
    "                        insertDict[key] = value\n",
    "                insertDict_DF = pd.DataFrame.from_dict(insertDict)\n",
    "                emdf_gb = pd.concat([emdf_gb, insertDict_DF], ignore_index=True)\n",
    "                \n",
    "                \n",
    "    emotion_df = emdf_gb[emdf_gb['TimeInt'] != 540]\n",
    "\n",
    "    \n",
    "    #repeat the hr columns\n",
    "    hr_df1 = hr_df.loc[hr_df.index.repeat(4)] \n",
    "    \n",
    "    #reset the indexes to make it compatible with the other signals for concatenation\n",
    "    dfhr = hr_df1[['hr']].reset_index()\n",
    "    \n",
    "\n",
    "    total_df = pd.concat([emotion_df,dfhr[['hr']],eda_df['eda'],temp_df['temp']],axis = 1)\n",
    "\n",
    "    total_df['stress'] = 1\n",
    "\n",
    "    #extract the labels from excel files\n",
    "    if (task ==1) or (task == 4) or (task == 6) or (task == 8):\n",
    "        total_df[\"stress\"] = 1\n",
    "            \n",
    "    elif (task == 2) or (task == 3):\n",
    "        total_df[\"stress\"][:240] = labels.iloc[task - 1,1]\n",
    "\n",
    "        for i in range (4):\n",
    "            total_df[\"stress\"][240 + i * 480: 240 + (i + 1)*480] = labels.iloc[task - 1, i + 2]\n",
    "        \n",
    "        total_df[\"stress\"][1920:] = labels.iloc[task - 1, 5]    \n",
    "    \n",
    "    elif (task == 5):\n",
    "        total_df[\"stress\"][:240] = labels.iloc[task - 3, 1]\n",
    "        \n",
    "        for i in range (4):\n",
    "            total_df[\"stress\"][240 + i * 480: 240 + (i + 1) * 480] = labels.iloc[task - 3, i + 2]\n",
    "\n",
    "        total_df[\"stress\"][1920:] = labels.iloc[task - 3, 5] \n",
    "    \n",
    "    elif (task == 7):\n",
    "        total_df[\"stress\"][:240] = labels.iloc[task - 4, 1]\n",
    "        \n",
    "        for i in range (4):\n",
    "            total_df[\"stress\"][240 + i * 480: 240 + (i + 1) * 480] = labels.iloc[task - 4, i + 2]\n",
    "\n",
    "        total_df[\"stress\"][1920:] = labels.iloc[task - 4, 5] \n",
    "    return total_df"
   ]
  },
  {
   "cell_type": "code",
   "execution_count": null,
   "id": "de94baf2-81bd-4445-8ef0-c65d7d4cfa07",
   "metadata": {},
   "outputs": [],
   "source": [
    "# make array of subjects\n",
    "subject_list = ['G','H','I','J','K','L','M','N','O','P','Q','R','S','T']\n",
    "\n",
    "#iterate over subjects and bring different signals\n",
    "\n",
    "for subject in subject_list:\n",
    "\n",
    "    try:\n",
    "        #generate emotion directory\n",
    "        emotion_dir = f'{emotion_path}{subject}'\n",
    "        #print(emotion_dir)\n",
    "        for task in range (1,9):\n",
    "\n",
    "            #extract emotion data\n",
    "            emotion_df = ext_emotion_df(subject,task)\n",
    "\n",
    "            #import Signals data\n",
    "            hr_df = ext_hr_df(subject,task)\n",
    "            eda_df = ext_eda_df(subject,task)\n",
    "            temp_df = ext_temp_df(subject,task)\n",
    "\n",
    "            # import labels\n",
    "            labels = pd.read_excel(f'Labels/{subject}.xlsx')\n",
    "\n",
    "            #synchronize, resample, concatenate, label the data\n",
    "            total_df = srcl(emotion_df, hr_df, eda_df, temp_df, labels,task)\n",
    "\n",
    "            total_df.to_csv(f'Significance/{subject}T{task}.csv')\n",
    "    except:\n",
    "        print(subject, task)"
   ]
  },
  {
   "cell_type": "code",
   "execution_count": null,
   "id": "8de8ef3d-7103-4864-8f09-d66e5e345a61",
   "metadata": {},
   "outputs": [],
   "source": [
    "cname = 'Time (seconds)'"
   ]
  },
  {
   "cell_type": "code",
   "execution_count": null,
   "id": "7979249e-5c7e-4374-8326-3c921e54d87c",
   "metadata": {},
   "outputs": [],
   "source": [
    "#find the data frame sizes\n",
    "a, b = emotion_df.shape \n",
    "c, d = temp_df.shape\n",
    "print(a,b,c,d)\n",
    "lst =['Angry', 'Disgust', 'Scared', 'Happy', 'Sad', 'Surprised', 'Neutral']\n",
    "aggdict = {}\n",
    "\n",
    "for l in lst:\n",
    "    aggdict[l] = 'mean'\n",
    "\n",
    "print(aggdict)\n",
    "\n",
    "emdf = emotion_df.copy()\n",
    "emdf['Time (seconds)'] = emdf['Time (seconds)'].round(3)\n",
    "#define a new dataframe\n",
    "emdf['TimeInt'] = emdf['Time (seconds)'].apply(np.floor)\n",
    "emdf['FrameSpec'] = (emdf['Time (seconds)'] - emdf['TimeInt']).apply(lambda x: 1 if x<0.24 else(2 if x<0.48 else(3 if x<0.72 else 4)))\n",
    "emdf_gb = emdf.groupby(['TimeInt','FrameSpec']).agg(aggdict).reset_index()\n",
    "\n",
    "\n",
    "\n"
   ]
  },
  {
   "cell_type": "code",
   "execution_count": 254,
   "id": "c37474a8-e452-49cb-81c1-8ce7a13a168f",
   "metadata": {},
   "outputs": [],
   "source": [
    "for i in range(540):\n",
    "    vals = emdf_gb[emdf_gb['TimeInt']==i]['FrameSpec'].unique()\n",
    "    if len(vals)<4:\n",
    "        actval = range(1,5)\n",
    "        missing =  np.setdiff1d(actval, vals)\n",
    "        for j in missing:\n",
    "            frame = i if j!=1 else i-1\n",
    "            spec = j-1 if j!=1 else 4\n",
    "            #print(i,j, frame, spec)\n",
    "            insertDict = {}\n",
    "            insertDict['TimeInt'] = i\n",
    "            insertDict['FrameSpec'] = j\n",
    "            getdictvals = emdf_gb[((emdf_gb['TimeInt']==frame) & (emdf_gb['FrameSpec']==spec))][['Angry', 'Disgust', 'Scared', 'Happy', 'Sad', 'Surprised', 'Neutral']]\n",
    "            #print(getdictvals)\n",
    "            if len(getdictvals.keys())>0:\n",
    "                for key, value in getdictvals.to_dict().items():\n",
    "                    insertDict[key] = value\n",
    "            insertDict_DF = pd.DataFrame.from_dict(insertDict)\n",
    "            emdf_gb = pd.concat([emdf_gb, insertDict_DF], ignore_index=True)\n",
    "            #print(insertDict)"
   ]
  },
  {
   "cell_type": "code",
   "execution_count": 257,
   "id": "2accf63d-7889-4bd7-a45a-fdbfef193477",
   "metadata": {},
   "outputs": [],
   "source": [
    "emotion_df = emdf_gb[emdf_gb['TimeInt'] != 540]"
   ]
  },
  {
   "cell_type": "code",
   "execution_count": 258,
   "id": "434924c9-8449-420b-be53-3beefa55518a",
   "metadata": {},
   "outputs": [
    {
     "name": "stdout",
     "output_type": "stream",
     "text": [
      "(2160, 9)\n"
     ]
    }
   ],
   "source": [
    "print(emotion_df.shape)"
   ]
  },
  {
   "cell_type": "code",
   "execution_count": 261,
   "id": "87001826-aebc-49b0-97f3-414a4353f998",
   "metadata": {},
   "outputs": [],
   "source": [
    "hr_df1 = hr_df.loc[hr_df.index.repeat(4)]\n",
    "    "
   ]
  },
  {
   "cell_type": "code",
   "execution_count": 262,
   "id": "a16c8622-8d9c-445b-a2ef-9bd050dcad65",
   "metadata": {},
   "outputs": [
    {
     "name": "stdout",
     "output_type": "stream",
     "text": [
      "(2160, 9) (2160, 2) (2160, 2) (2160, 2)\n"
     ]
    }
   ],
   "source": [
    "print(emotion_df.shape, hr_df1.shape, eda_df.shape, temp_df.shape)"
   ]
  },
  {
   "cell_type": "code",
   "execution_count": 267,
   "id": "4d6e7fd0-29d7-41bb-99b3-54446dc656cd",
   "metadata": {},
   "outputs": [],
   "source": [
    "temp_df = emotion_df.copy()"
   ]
  },
  {
   "cell_type": "code",
   "execution_count": 268,
   "id": "2ce82cd6-7deb-4d30-bcf8-2ef252d3752e",
   "metadata": {},
   "outputs": [],
   "source": [
    "temp_df[\"Stress\"] = 2"
   ]
  },
  {
   "cell_type": "code",
   "execution_count": null,
   "id": "3b8b1140-16d5-4150-b4c2-c02abc6053b5",
   "metadata": {},
   "outputs": [],
   "source": [
    "labels = pd.read_excel('Labels/K.xlsx')\n",
    "temp_df[\"Stress\"][:240] = labels.iloc[1,1]\n",
    "for i in range (4):\n",
    "    temp_df[\"Stress\"][240+i*480:240+(i+1)*480] = labels.iloc[1,i+2]\n",
    "\n",
    "temp_df[\"Stress\"][1920:] = labels.iloc[1,5]    \n"
   ]
  }
 ],
 "metadata": {
  "kernelspec": {
   "display_name": "Python 3 (ipykernel)",
   "language": "python",
   "name": "python3"
  },
  "language_info": {
   "codemirror_mode": {
    "name": "ipython",
    "version": 3
   },
   "file_extension": ".py",
   "mimetype": "text/x-python",
   "name": "python",
   "nbconvert_exporter": "python",
   "pygments_lexer": "ipython3",
   "version": "3.9.11"
  }
 },
 "nbformat": 4,
 "nbformat_minor": 5
}
