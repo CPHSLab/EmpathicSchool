{
 "cells": [
  {
   "cell_type": "code",
   "execution_count": 1,
   "metadata": {},
   "outputs": [],
   "source": [
    "import pandas as pd\n",
    "import numpy as np\n",
    "from sklearn import preprocessing\n",
    "from scipy.stats import kurtosis, skew\n",
    "from scipy.signal import find_peaks\n",
    "from multiprocessing import Pool\n",
    "from sklearn.preprocessing import MinMaxScaler\n",
    "import warnings"
   ]
  },
  {
   "cell_type": "code",
   "execution_count": 2,
   "metadata": {},
   "outputs": [],
   "source": [
    "def getFeatures(a):\n",
    "    min = np.amin(a)\n",
    "    max = np.amax(a)\n",
    "    mean = np.mean(a)\n",
    "    std = np.std(a)\n",
    "    return min, max, mean, std\n",
    "\n",
    "def getEDAStats(a):\n",
    "    skewness = skew(a)\n",
    "    kurt = kurtosis(a)\n",
    "    return skewness, kurt"
   ]
  },
  {
   "cell_type": "code",
   "execution_count": 3,
   "metadata": {},
   "outputs": [
    {
     "data": {
      "text/plain": [
       "1.0     102749\n",
       "2.0      14406\n",
       "3.0      13442\n",
       "7.0       6962\n",
       "13.0      6720\n",
       "5.0       6243\n",
       "10.0      6002\n",
       "11.0      5042\n",
       "16.0      4803\n",
       "14.0      2881\n",
       "9.0       2881\n",
       "4.0       2880\n",
       "6.0       2640\n",
       "20.0      1921\n",
       "17.0      1921\n",
       "15.0      1680\n",
       "8.0       1440\n",
       "18.0      1440\n",
       "12.0       960\n",
       "Name: stress, dtype: int64"
      ]
     },
     "execution_count": 3,
     "metadata": {},
     "output_type": "execute_result"
    }
   ],
   "source": [
    "userList = ['HT','IT','JT','KT','LT','MT','NT','PT','QT','RT','ST']\n",
    "\n",
    "df = pd.read_csv('Emotions.csv')\n",
    "df =df[['Angry','Disgust','Scared','Happy','Sad','Surprised','Neutral','hr','eda','temp','stress','id']]\n",
    "df['subject']=df['id'].str[:2]\n",
    "df = df.drop(columns =['id'])\n",
    "df.stress.value_counts()"
   ]
  },
  {
   "cell_type": "code",
   "execution_count": 20,
   "metadata": {},
   "outputs": [
    {
     "name": "stdout",
     "output_type": "stream",
     "text": [
      "HT\n",
      "IT\n",
      "JT\n",
      "KT\n",
      "LT\n",
      "MT\n",
      "NT\n",
      "PT\n",
      "QT\n",
      "RT\n",
      "ST\n"
     ]
    }
   ],
   "source": [
    "index = 0\n",
    "s0,s1,s2=0,0,0\n",
    "fdf = pd.DataFrame(columns=['Angry','Disgust','Scared','Happy','Sad','Surprised','Neutral',\n",
    "                                'eda_mean','eda_min','eda_max','eda_std',\n",
    "                                'eda_kurtosis','eda_skew','eda_num_peaks','eda_amphitude','eda_duration',\n",
    "                                'hr_mean','hr_min','hr_max','hr_std','hr_rms',\n",
    "                                'hr_num_peaks','hr_amphitude','hr_duration',\n",
    "                                'temp_mean','temp_min','temp_max','temp_mtd','stress','user'])\n",
    "\n",
    "for user in userList:\n",
    "    print(user)\n",
    "    data_original = df[df['subject'] == user]\n",
    "    scaler = MinMaxScaler()\n",
    "    norm = data_original.drop(columns=['subject','stress'])\n",
    "    #display(data_original)\n",
    "    array = scaler.fit_transform(norm)\n",
    "    data1 = pd.DataFrame(array)\n",
    "    data1.columns = ['Angry','Disgust','Scared','Happy','Sad','Surprised','Neutral','hr','eda','temp']\n",
    "    data = pd.concat([data1,data_original[['stress','subject']].reset_index()],axis=1)\n",
    "    #display(data.stress.value_counts())\n",
    "    length = len(data['Angry'])\n",
    "    \n",
    "\n",
    "    for i in range(0,length, 20):\n",
    "        partialDF = data.iloc[i:i+40,]\n",
    "        plen = len(partialDF['eda'])\n",
    "\n",
    "\n",
    "        if plen < 40:\n",
    "            continue\n",
    "\n",
    "        eda = partialDF['eda'].values\n",
    "        hr = partialDF['hr'].values\n",
    "\n",
    "        tmp = partialDF['temp'].values\n",
    "\n",
    "        Angry = partialDF['Angry'].values.mean()\n",
    "        Disgust = partialDF['Disgust'].values.mean()\n",
    "        Scared = partialDF['Scared'].values.mean()\n",
    "        Happy = partialDF['Happy'].values.mean()\n",
    "        Sad = partialDF['Sad'].values.mean()\n",
    "        Surprised = partialDF['Surprised'].values.mean()\n",
    "        Neutral = partialDF['Neutral'].values.mean()\n",
    "\n",
    "\n",
    "        stress = partialDF['stress'].values\n",
    "\n",
    "        eda_min, eda_max, eda_mean, eda_std = getFeatures(eda)\n",
    "        \n",
    "        hr_min, hr_max, hr_mean, hr_std = getFeatures(hr)\n",
    "        \n",
    "        tmp_min, tmp_max, tmp_mean, tmp_std = getFeatures(tmp)\n",
    "\n",
    "        #stress_mean = np.mean(stress)\n",
    "        stress_mean = stress.mean()\n",
    "        eda_skew, eda_kurtosis = getEDAStats(eda)\n",
    "\n",
    "        rms = np.sqrt(np.mean(np.square(np.ediff1d(hr))))\n",
    "\n",
    "        peaks,properties = find_peaks(eda, width=5)\n",
    "\n",
    "\n",
    "        num_Peaks = len(peaks)\n",
    "        prominences = np.array(properties['prominences'])\n",
    "        widths = np.array(properties['widths'])\n",
    "        amphitude = np.sum(prominences)\n",
    "        duration = np.sum(widths)\n",
    "\n",
    "\n",
    "        hrpeaks,hrproperties = find_peaks(hr, width=5)\n",
    "        hrnum_Peaks = len(hrpeaks)\n",
    "        hrprominences = np.array(hrproperties['prominences'])\n",
    "        hrwidths = np.array(hrproperties['widths'])\n",
    "        hramphitude = np.sum(hrprominences)\n",
    "        hrduration = np.sum(hrwidths)\n",
    "\n",
    "        ###############################\n",
    "\n",
    "        stress_label = ''\n",
    "        if stress_mean <=6.7:\n",
    "            #print(stress_mean)\n",
    "            stress_label = '0'\n",
    "            s0 += 1\n",
    "        elif stress_mean <= 13.4:\n",
    "            stress_label = '1'\n",
    "            s1 += 1\n",
    "        else:\n",
    "            stress_label = '2'\n",
    "            s2 += 1\n",
    "        fdf.loc[index] = [Angry,Disgust,Scared,Happy,Sad,Surprised,Neutral,\n",
    "                            eda_mean, eda_min, eda_max, eda_std,\n",
    "                            eda_kurtosis, eda_skew, num_Peaks, amphitude, duration,\n",
    "                            hr_mean, hr_min, hr_max, hr_std, rms,\n",
    "                            hrnum_Peaks, hramphitude, hrduration,\n",
    "                            tmp_mean, tmp_min, tmp_max, tmp_std,\n",
    "                            stress_label,user]\n",
    "\n",
    "        index = index+1\n",
    "    #fdf['EDAR_num_Peaks'] = fdf['EDAR_num_Peaks'].apply(lambda x: x/10 if x<=10 else 1)\n",
    "fdf.to_csv('em_feat_0510.csv',index=False)\n",
    "\n"
   ]
  },
  {
   "cell_type": "code",
   "execution_count": 15,
   "metadata": {},
   "outputs": [],
   "source": [
    "fdf.to_csv('majid.csv',index=False)"
   ]
  },
  {
   "cell_type": "code",
   "execution_count": 18,
   "metadata": {},
   "outputs": [
    {
     "name": "stdout",
     "output_type": "stream",
     "text": [
      "7100 1507 886\n"
     ]
    }
   ],
   "source": [
    "print(s0,s1,s2)"
   ]
  },
  {
   "cell_type": "code",
   "execution_count": 19,
   "metadata": {},
   "outputs": [
    {
     "data": {
      "text/plain": [
       "0    538\n",
       "1    313\n",
       "2     12\n",
       "Name: stress, dtype: int64"
      ]
     },
     "execution_count": 19,
     "metadata": {},
     "output_type": "execute_result"
    }
   ],
   "source": [
    "fdf.stress.value_counts()"
   ]
  },
  {
   "cell_type": "code",
   "execution_count": null,
   "metadata": {},
   "outputs": [],
   "source": []
  }
 ],
 "metadata": {
  "kernelspec": {
   "display_name": "Python 3.8.13 ('mml')",
   "language": "python",
   "name": "python3"
  },
  "language_info": {
   "codemirror_mode": {
    "name": "ipython",
    "version": 3
   },
   "file_extension": ".py",
   "mimetype": "text/x-python",
   "name": "python",
   "nbconvert_exporter": "python",
   "pygments_lexer": "ipython3",
   "version": "3.8.13"
  },
  "orig_nbformat": 4,
  "vscode": {
   "interpreter": {
    "hash": "6e6abdcc55c9525869dc29791932791dcdd58ba64bd8065ca093ed6eb1a0311d"
   }
  }
 },
 "nbformat": 4,
 "nbformat_minor": 2
}
