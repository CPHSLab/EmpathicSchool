{
 "cells": [
  {
   "cell_type": "code",
   "execution_count": 67,
   "metadata": {},
   "outputs": [],
   "source": [
    "import pandas as pd\n",
    "import numpy as np\n",
    "import tdml\n",
    "from imblearn.under_sampling import RandomUnderSampler\n",
    "\n",
    "import os\n",
    "from sklearn.metrics import accuracy_score, precision_score, recall_score, f1_score\n",
    "from sklearn.ensemble import RandomForestClassifier, ExtraTreesClassifier\n",
    "from sklearn.tree import DecisionTreeClassifier\n",
    "from sklearn.model_selection import train_test_split\n",
    "import xgboost\n",
    "from xgboost import XGBClassifier\n",
    "import xlsxwriter\n",
    "from imblearn.over_sampling import SMOTE"
   ]
  },
  {
   "cell_type": "code",
   "execution_count": 54,
   "metadata": {},
   "outputs": [
    {
     "data": {
      "text/plain": [
       "Index(['Angry', 'Disgust', 'Scared', 'Happy', 'Sad', 'Surprised', 'Neutral',\n",
       "       'eda_mean', 'eda_min', 'eda_max', 'eda_std', 'eda_kurtosis', 'eda_skew',\n",
       "       'eda_num_peaks', 'eda_amphitude', 'eda_duration', 'hr_mean', 'hr_min',\n",
       "       'hr_max', 'hr_std', 'hr_rms', 'hr_num_peaks', 'hr_amphitude',\n",
       "       'hr_duration', 'temp_mean', 'temp_min', 'temp_max', 'temp_mtd',\n",
       "       'stress', 'user'],\n",
       "      dtype='object')"
      ]
     },
     "execution_count": 54,
     "metadata": {},
     "output_type": "execute_result"
    }
   ],
   "source": [
    "df = pd.read_csv('em_feat_0510.csv').dropna()\n",
    "df.columns\n"
   ]
  },
  {
   "cell_type": "code",
   "execution_count": 55,
   "metadata": {},
   "outputs": [],
   "source": [
    "bio_df = df[['eda_mean', 'eda_min', 'eda_max', 'eda_std', 'eda_kurtosis', 'eda_skew',\n",
    "       'eda_num_peaks', 'eda_amphitude', 'eda_duration', 'hr_mean', 'hr_min',\n",
    "       'hr_max', 'hr_std', 'hr_rms', 'hr_num_peaks', 'hr_amphitude',\n",
    "       'hr_duration', 'temp_mean', 'temp_min', 'temp_max', 'temp_mtd',\n",
    "       'stress', 'user']]"
   ]
  },
  {
   "cell_type": "code",
   "execution_count": 56,
   "metadata": {},
   "outputs": [],
   "source": [
    "emo_df = df[['Angry', 'Disgust', 'Scared', 'Happy', 'Sad',\n",
    "             'Surprised', 'Neutral','stress', 'user']]\n",
    "user_list=df.user.unique()\n",
    "writer = pd.ExcelWriter('results.xlsx',engine='xlsxwriter')\n",
    "\n",
    "pd.DataFrame(user_list,columns=['user_list']).to_excel(writer,sheet_name = \"results.xlsx\", index =False)  \n",
    "writer.save()\n"
   ]
  },
  {
   "cell_type": "code",
   "execution_count": 57,
   "metadata": {},
   "outputs": [],
   "source": [
    "def results2excel(rf_accuracy, dt_accuracy, xgb_accuracy, user_list, sheet_name):\n",
    "    rf, dt, xg = pd.DataFrame(rf_accuracy), pd.DataFrame(dt_accuracy), pd.DataFrame(xgb_accuracy)\n",
    "    \n",
    "    user_list = pd.DataFrame(user_list)\n",
    "\n",
    "    results = pd.DataFrame()\n",
    "    results = pd.concat([user_list,rf,dt,et,xg],axis=1)\n",
    "    results.columns = ['user','random forest','decision tree','extra trees','xgboost']\n",
    "    \n",
    "    with pd.ExcelWriter('results.xlsx', engine='openpyxl', mode='a') as writer:\n",
    "        results.to_excel(writer, sheet_name = sheet_name)\n",
    "\n",
    "        writer.save()\n"
   ]
  },
  {
   "cell_type": "code",
   "execution_count": 61,
   "metadata": {},
   "outputs": [],
   "source": [
    "def machine_learning(dataframe, sheet_name):\n",
    "\n",
    "    xgb_accuracy, et_accuracy, dt_accuracy, rf_accuracy = [], [], [], []\n",
    "    user_list = []\n",
    "    for user in dataframe.user.unique():\n",
    "\n",
    "        user_list.append(user)\n",
    "\n",
    "        \n",
    "        train_set = dataframe[dataframe['user'] != user]\n",
    "        su = SMOTE(random_state=42)\n",
    "        X_train, y_train = su.fit_resample(train_set.drop(columns= ['user','stress']), train_set['stress'])\n",
    "        \n",
    "        test_set = dataframe[dataframe['user'] == user]\n",
    "        \n",
    "        rf = RandomForestClassifier(n_estimators = 100, max_depth=5, min_samples_leaf=5,random_state = 123)\n",
    "        rf.fit(X_train, y_train)\n",
    "        predictions = rf.predict(test_set.drop(columns=['user','stress']))\n",
    "        rf_accuracy.append(accuracy_score(predictions,test_set['stress']))\n",
    "            \n",
    "        dt =DecisionTreeClassifier(random_state=123)\n",
    "        dt.fit(X_train, y_train)\n",
    "        predictions = dt.predict(test_set.drop(columns=['user','stress']))\n",
    "        dt_accuracy.append(accuracy_score(predictions,test_set['stress']))\n",
    "\n",
    "        xgb = XGBClassifier()\n",
    "        xgb.fit(X_train, y_train)\n",
    "        predictions = xgb.predict(test_set.drop(columns=['user','stress']))\n",
    "        xgb_accuracy.append(accuracy_score(predictions,test_set['stress']))\n",
    "\n",
    "    results2excel(rf_accuracy,dt_accuracy,et_accuracy,xgb_accuracy,user_list,sheet_name)    "
   ]
  },
  {
   "cell_type": "code",
   "execution_count": null,
   "metadata": {},
   "outputs": [],
   "source": [
    "machine_learning(emo_df,'Emotions')\n"
   ]
  },
  {
   "cell_type": "code",
   "execution_count": null,
   "metadata": {},
   "outputs": [],
   "source": [
    "machine_learning(bio_df,'biometrics')\n"
   ]
  },
  {
   "cell_type": "code",
   "execution_count": null,
   "metadata": {},
   "outputs": [],
   "source": [
    "machine_learning(df,'full-set')\n"
   ]
  },
  {
   "cell_type": "code",
   "execution_count": 10,
   "metadata": {},
   "outputs": [
    {
     "data": {
      "text/html": [
       "<div>\n",
       "<style scoped>\n",
       "    .dataframe tbody tr th:only-of-type {\n",
       "        vertical-align: middle;\n",
       "    }\n",
       "\n",
       "    .dataframe tbody tr th {\n",
       "        vertical-align: top;\n",
       "    }\n",
       "\n",
       "    .dataframe thead th {\n",
       "        text-align: right;\n",
       "    }\n",
       "</style>\n",
       "<table border=\"1\" class=\"dataframe\">\n",
       "  <thead>\n",
       "    <tr style=\"text-align: right;\">\n",
       "      <th></th>\n",
       "      <th>0</th>\n",
       "    </tr>\n",
       "  </thead>\n",
       "  <tbody>\n",
       "    <tr>\n",
       "      <th>Angry</th>\n",
       "      <td>1.051365e-15</td>\n",
       "    </tr>\n",
       "    <tr>\n",
       "      <th>Disgust</th>\n",
       "      <td>4.337172e-10</td>\n",
       "    </tr>\n",
       "    <tr>\n",
       "      <th>Scared</th>\n",
       "      <td>1.663046e-01</td>\n",
       "    </tr>\n",
       "    <tr>\n",
       "      <th>Happy</th>\n",
       "      <td>2.162209e-27</td>\n",
       "    </tr>\n",
       "    <tr>\n",
       "      <th>Sad</th>\n",
       "      <td>6.355232e-06</td>\n",
       "    </tr>\n",
       "    <tr>\n",
       "      <th>Surprised</th>\n",
       "      <td>5.021822e-01</td>\n",
       "    </tr>\n",
       "    <tr>\n",
       "      <th>Neutral</th>\n",
       "      <td>1.105051e-04</td>\n",
       "    </tr>\n",
       "    <tr>\n",
       "      <th>eda_mean</th>\n",
       "      <td>4.715566e-20</td>\n",
       "    </tr>\n",
       "    <tr>\n",
       "      <th>eda_min</th>\n",
       "      <td>3.384631e-20</td>\n",
       "    </tr>\n",
       "    <tr>\n",
       "      <th>eda_max</th>\n",
       "      <td>6.160898e-20</td>\n",
       "    </tr>\n",
       "    <tr>\n",
       "      <th>eda_std</th>\n",
       "      <td>1.564695e-02</td>\n",
       "    </tr>\n",
       "    <tr>\n",
       "      <th>eda_kurtosis</th>\n",
       "      <td>7.363749e-02</td>\n",
       "    </tr>\n",
       "    <tr>\n",
       "      <th>eda_skew</th>\n",
       "      <td>4.446138e-01</td>\n",
       "    </tr>\n",
       "    <tr>\n",
       "      <th>eda_num_peaks</th>\n",
       "      <td>1.171092e-01</td>\n",
       "    </tr>\n",
       "    <tr>\n",
       "      <th>eda_amphitude</th>\n",
       "      <td>1.508091e-04</td>\n",
       "    </tr>\n",
       "    <tr>\n",
       "      <th>eda_duration</th>\n",
       "      <td>4.978315e-02</td>\n",
       "    </tr>\n",
       "    <tr>\n",
       "      <th>hr_mean</th>\n",
       "      <td>6.804485e-22</td>\n",
       "    </tr>\n",
       "    <tr>\n",
       "      <th>hr_min</th>\n",
       "      <td>1.858888e-22</td>\n",
       "    </tr>\n",
       "    <tr>\n",
       "      <th>hr_max</th>\n",
       "      <td>3.474715e-21</td>\n",
       "    </tr>\n",
       "    <tr>\n",
       "      <th>hr_std</th>\n",
       "      <td>7.274535e-01</td>\n",
       "    </tr>\n",
       "    <tr>\n",
       "      <th>hr_rms</th>\n",
       "      <td>7.095415e-01</td>\n",
       "    </tr>\n",
       "    <tr>\n",
       "      <th>hr_num_peaks</th>\n",
       "      <td>3.770852e-01</td>\n",
       "    </tr>\n",
       "    <tr>\n",
       "      <th>hr_amphitude</th>\n",
       "      <td>5.207258e-01</td>\n",
       "    </tr>\n",
       "    <tr>\n",
       "      <th>hr_duration</th>\n",
       "      <td>4.110088e-01</td>\n",
       "    </tr>\n",
       "    <tr>\n",
       "      <th>temp_mean</th>\n",
       "      <td>6.316571e-01</td>\n",
       "    </tr>\n",
       "    <tr>\n",
       "      <th>temp_min</th>\n",
       "      <td>4.767070e-01</td>\n",
       "    </tr>\n",
       "    <tr>\n",
       "      <th>temp_max</th>\n",
       "      <td>7.714244e-01</td>\n",
       "    </tr>\n",
       "    <tr>\n",
       "      <th>temp_mtd</th>\n",
       "      <td>2.007459e-07</td>\n",
       "    </tr>\n",
       "    <tr>\n",
       "      <th>stress</th>\n",
       "      <td>0.000000e+00</td>\n",
       "    </tr>\n",
       "  </tbody>\n",
       "</table>\n",
       "</div>"
      ],
      "text/plain": [
       "                          0\n",
       "Angry          1.051365e-15\n",
       "Disgust        4.337172e-10\n",
       "Scared         1.663046e-01\n",
       "Happy          2.162209e-27\n",
       "Sad            6.355232e-06\n",
       "Surprised      5.021822e-01\n",
       "Neutral        1.105051e-04\n",
       "eda_mean       4.715566e-20\n",
       "eda_min        3.384631e-20\n",
       "eda_max        6.160898e-20\n",
       "eda_std        1.564695e-02\n",
       "eda_kurtosis   7.363749e-02\n",
       "eda_skew       4.446138e-01\n",
       "eda_num_peaks  1.171092e-01\n",
       "eda_amphitude  1.508091e-04\n",
       "eda_duration   4.978315e-02\n",
       "hr_mean        6.804485e-22\n",
       "hr_min         1.858888e-22\n",
       "hr_max         3.474715e-21\n",
       "hr_std         7.274535e-01\n",
       "hr_rms         7.095415e-01\n",
       "hr_num_peaks   3.770852e-01\n",
       "hr_amphitude   5.207258e-01\n",
       "hr_duration    4.110088e-01\n",
       "temp_mean      6.316571e-01\n",
       "temp_min       4.767070e-01\n",
       "temp_max       7.714244e-01\n",
       "temp_mtd       2.007459e-07\n",
       "stress         0.000000e+00"
      ]
     },
     "execution_count": 10,
     "metadata": {},
     "output_type": "execute_result"
    }
   ],
   "source": [
    "from scipy.stats import pearsonr\n",
    "\n",
    "ndf = df.drop(columns='user')\n",
    "pvals = pd.DataFrame([pearsonr(ndf[c], ndf['stress'])[1] for c in ndf.columns],\n",
    "                     index=ndf.columns)\n",
    "pvals\n"
   ]
  },
  {
   "cell_type": "code",
   "execution_count": 65,
   "metadata": {},
   "outputs": [],
   "source": [
    "new_df = df[[ 'Surprised', 'Neutral',\n",
    "       'eda_kurtosis', 'hr_std', 'hr_rms', 'hr_num_peaks', 'hr_amphitude',\n",
    "       'hr_duration', 'stress', 'user']] "
   ]
  },
  {
   "cell_type": "code",
   "execution_count": null,
   "metadata": {},
   "outputs": [],
   "source": [
    "machine_learning(new_df,'Pearsons')"
   ]
  }
 ],
 "metadata": {
  "kernelspec": {
   "display_name": "Python 3.8.3 64-bit ('anaconda3')",
   "language": "python",
   "name": "python3"
  },
  "language_info": {
   "codemirror_mode": {
    "name": "ipython",
    "version": 3
   },
   "file_extension": ".py",
   "mimetype": "text/x-python",
   "name": "python",
   "nbconvert_exporter": "python",
   "pygments_lexer": "ipython3",
   "version": "3.8.3"
  },
  "orig_nbformat": 4,
  "vscode": {
   "interpreter": {
    "hash": "ffa51e7487a5c9aba5bf06d946da901bd09c5944428d91dbfd51e32001a3c87a"
   }
  }
 },
 "nbformat": 4,
 "nbformat_minor": 2
}
